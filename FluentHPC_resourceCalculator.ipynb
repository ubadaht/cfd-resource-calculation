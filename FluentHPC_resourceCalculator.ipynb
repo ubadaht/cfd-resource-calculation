{
  "nbformat": 4,
  "nbformat_minor": 0,
  "metadata": {
    "colab": {
      "provenance": []
    },
    "kernelspec": {
      "name": "python3",
      "display_name": "Python 3"
    },
    "language_info": {
      "name": "python"
    }
  },
  "cells": [
    {
      "cell_type": "markdown",
      "source": [
        "**Example run for 11mill**\n",
        "```\n",
        "# Estimated resources for 11,000,000 elements:\n",
        "\n",
        "Conservative:\n",
        "  Cores: 110\n",
        "  Total RAM: 22.0–55.0 GB\n",
        "  RAM/Core: 0.4 GB\n",
        "  Slurm: #SBATCH --mem-per-cpu=1.0GB\n",
        "\n",
        "Recommended:\n",
        "  Cores: 147\n",
        "  Total RAM: 22.0–55.0 GB\n",
        "  RAM/Core: 0.3 GB\n",
        "  Slurm: #SBATCH --mem-per-cpu=1.0GB\n",
        "\n",
        "Aggressive:\n",
        "  Cores: 220\n",
        "  Total RAM: 22.0–55.0 GB\n",
        "  RAM/Core: 0.2 GB\n",
        "  Slurm: #SBATCH --mem-per-cpu=1.0GB\n",
        "tted as code\n",
        "```"
      ],
      "metadata": {
        "id": "Lff-gX0riDw9"
      }
    },
    {
      "cell_type": "code",
      "execution_count": 1,
      "metadata": {
        "id": "3w1KgZ84gkyH"
      },
      "outputs": [],
      "source": [
        "# Please RUN ALL CELLS FIRST\n",
        "# Imports\n",
        "import re"
      ]
    },
    {
      "cell_type": "code",
      "source": [
        "# Function to parse mesh input\n",
        "\n",
        "def parse_mesh_input(user_input):\n",
        "    \"\"\"Convert mesh size input with units (k, m, mill, million) to integer cells.\"\"\"\n",
        "    text = user_input.lower().replace(\" \", \"\")\n",
        "    match = re.match(r\"(\\d+\\.?\\d*)([a-z]*)\", text)\n",
        "\n",
        "    if not match:\n",
        "        raise ValueError(\"Invalid input format.\")\n",
        "\n",
        "    number = float(match.group(1))\n",
        "    unit = match.group(2)\n",
        "\n",
        "    if unit in [\"k\", \"thousand\"]:\n",
        "        return int(number * 1_000)\n",
        "    elif unit in [\"m\", \"mill\", \"mil\", \"million\"]:\n",
        "        return int(number * 1_000_000)\n",
        "    elif unit == \"\":\n",
        "        return int(number)  # raw number\n",
        "    else:\n",
        "        raise ValueError(\"Unknown unit. Use k, m, mill, million, or no unit.\")"
      ],
      "metadata": {
        "id": "0P1cKmTgg1p7"
      },
      "execution_count": 6,
      "outputs": []
    },
    {
      "cell_type": "code",
      "source": [
        "# Function to calculate resources\n",
        "\n",
        "def calc_resources(elements):\n",
        "    # RAM per million cells (GB)\n",
        "    ram_low, ram_high = 2, 5  # min & max estimate\n",
        "\n",
        "    # Recommended points per core range\n",
        "    points_per_core_low, points_per_core_high = 50_000, 100_000\n",
        "\n",
        "    scenarios = {\n",
        "        \"Conservative\": points_per_core_high,  # fewer cores, more points/core\n",
        "        \"Recommended\": (points_per_core_low + points_per_core_high) / 2,\n",
        "        \"Aggressive\": points_per_core_low,     # more cores, fewer points/core\n",
        "    }\n",
        "\n",
        "    results = {}\n",
        "    for name, ppc in scenarios.items():\n",
        "        cores = max(2, round(elements / ppc))  # at least 2 cores\n",
        "        total_ram_low = max(2, (elements / 1e6) * ram_low)   # GB, min 2 GB\n",
        "        total_ram_high = max(2, (elements / 1e6) * ram_high)\n",
        "\n",
        "        # Pick mid-RAM estimate for mem-per-cpu calculation\n",
        "        total_ram_mid = (total_ram_low + total_ram_high) / 2\n",
        "        ram_per_core = max(2, total_ram_mid / cores)  # at least 1 GB/core\n",
        "\n",
        "        results[name] = {\n",
        "            \"cores\": cores,\n",
        "            \"total_ram_low\": total_ram_low,\n",
        "            \"total_ram_high\": total_ram_high,\n",
        "            \"ram_per_core\": ram_per_core,\n",
        "            \"slurm_flag\": f\"#SBATCH --mem-per-cpu={ram_per_core:.1f}GB\"\n",
        "        }\n",
        "\n",
        "    return results"
      ],
      "metadata": {
        "id": "cfLszv1XhHRW"
      },
      "execution_count": 7,
      "outputs": []
    },
    {
      "cell_type": "code",
      "source": [
        "# Cell 4 – Run interactively\n",
        "mesh_input = input(\"Enter mesh elements (e.g., '100k', '5m', '10 mill'): \")\n",
        "elements = parse_mesh_input(mesh_input)\n",
        "res = calc_resources(elements)\n",
        "\n",
        "print(f\"\\nEstimated resources for {elements:,.0f} elements:\\n\")\n",
        "for scenario, data in res.items():\n",
        "    print(f\"{scenario}:\")\n",
        "    print(f\"  Cores: {data['cores']}\")\n",
        "    print(f\"  Total RAM: {data['total_ram_low']:.1f}–{data['total_ram_high']:.1f} GB\")\n",
        "    print(f\"  RAM/Core: {data['ram_per_core']:.1f} GB\")\n",
        "    print(f\"  SLURM submission example:\\n{data['slurm_flag']}\\n\")"
      ],
      "metadata": {
        "colab": {
          "base_uri": "https://localhost:8080/"
        },
        "id": "ghENXBJ1hNhe",
        "outputId": "55cabe8c-ac74-45e2-d722-0e2f4d35d822"
      },
      "execution_count": 8,
      "outputs": [
        {
          "output_type": "stream",
          "name": "stdout",
          "text": [
            "Enter mesh elements (e.g., '100k', '5m', '10 mill'): 8m\n",
            "\n",
            "Estimated resources for 8,000,000 elements:\n",
            "\n",
            "Conservative:\n",
            "  Cores: 80\n",
            "  Total RAM: 16.0–40.0 GB\n",
            "  RAM/Core: 2.0 GB\n",
            "  SLURM submission example:\n",
            "#SBATCH --mem-per-cpu=2.0GB\n",
            "\n",
            "Recommended:\n",
            "  Cores: 107\n",
            "  Total RAM: 16.0–40.0 GB\n",
            "  RAM/Core: 2.0 GB\n",
            "  SLURM submission example:\n",
            "#SBATCH --mem-per-cpu=2.0GB\n",
            "\n",
            "Aggressive:\n",
            "  Cores: 160\n",
            "  Total RAM: 16.0–40.0 GB\n",
            "  RAM/Core: 2.0 GB\n",
            "  SLURM submission example:\n",
            "#SBATCH --mem-per-cpu=2.0GB\n",
            "\n"
          ]
        }
      ]
    },
    {
      "cell_type": "code",
      "source": [],
      "metadata": {
        "id": "_ot1Fk8phVds"
      },
      "execution_count": null,
      "outputs": []
    }
  ]
}